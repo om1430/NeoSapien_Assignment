{
  "nbformat": 4,
  "nbformat_minor": 0,
  "metadata": {
    "colab": {
      "provenance": []
    },
    "kernelspec": {
      "name": "python3",
      "display_name": "Python 3"
    },
    "language_info": {
      "name": "python"
    }
  },
  "cells": [
    {
      "cell_type": "markdown",
      "source": [
        "# **DATA LOAD AND EDA PROCESS BEFORE MOVE FORWADING**"
      ],
      "metadata": {
        "id": "fNf7_D4WPlDb"
      }
    },
    {
      "cell_type": "code",
      "source": [
        "import pandas as pd\n",
        "import matplotlib.pyplot as plt\n",
        "\n",
        "\n",
        "app_logs_data= pd.read_csv(\"/content/app_logs.csv\")\n",
        "\n",
        "app_logs_data.head()"
      ],
      "metadata": {
        "colab": {
          "base_uri": "https://localhost:8080/",
          "height": 206
        },
        "id": "j2CM175fOB_w",
        "outputId": "af5919e1-7b87-4da8-8bad-3dca5cf2aae6"
      },
      "execution_count": 4,
      "outputs": [
        {
          "output_type": "execute_result",
          "data": {
            "text/plain": [
              "             timestamp              endpoint  user_id  response_time_ms  \\\n",
              "0  2024-12-01 23:20:31           /api/search  user_25                98   \n",
              "1  2024-12-01 23:25:31  /api/recommendations  user_82               107   \n",
              "2  2024-12-01 23:30:31             /api/chat  user_89               147   \n",
              "3  2024-12-01 23:35:31           /api/search  user_12                96   \n",
              "4  2024-12-01 23:40:31           /api/search  user_15                98   \n",
              "\n",
              "   status_code  \n",
              "0          200  \n",
              "1          200  \n",
              "2          200  \n",
              "3          200  \n",
              "4          200  "
            ],
            "text/html": [
              "\n",
              "  <div id=\"df-e5a077a2-b669-4415-aed7-5256214ae36b\" class=\"colab-df-container\">\n",
              "    <div>\n",
              "<style scoped>\n",
              "    .dataframe tbody tr th:only-of-type {\n",
              "        vertical-align: middle;\n",
              "    }\n",
              "\n",
              "    .dataframe tbody tr th {\n",
              "        vertical-align: top;\n",
              "    }\n",
              "\n",
              "    .dataframe thead th {\n",
              "        text-align: right;\n",
              "    }\n",
              "</style>\n",
              "<table border=\"1\" class=\"dataframe\">\n",
              "  <thead>\n",
              "    <tr style=\"text-align: right;\">\n",
              "      <th></th>\n",
              "      <th>timestamp</th>\n",
              "      <th>endpoint</th>\n",
              "      <th>user_id</th>\n",
              "      <th>response_time_ms</th>\n",
              "      <th>status_code</th>\n",
              "    </tr>\n",
              "  </thead>\n",
              "  <tbody>\n",
              "    <tr>\n",
              "      <th>0</th>\n",
              "      <td>2024-12-01 23:20:31</td>\n",
              "      <td>/api/search</td>\n",
              "      <td>user_25</td>\n",
              "      <td>98</td>\n",
              "      <td>200</td>\n",
              "    </tr>\n",
              "    <tr>\n",
              "      <th>1</th>\n",
              "      <td>2024-12-01 23:25:31</td>\n",
              "      <td>/api/recommendations</td>\n",
              "      <td>user_82</td>\n",
              "      <td>107</td>\n",
              "      <td>200</td>\n",
              "    </tr>\n",
              "    <tr>\n",
              "      <th>2</th>\n",
              "      <td>2024-12-01 23:30:31</td>\n",
              "      <td>/api/chat</td>\n",
              "      <td>user_89</td>\n",
              "      <td>147</td>\n",
              "      <td>200</td>\n",
              "    </tr>\n",
              "    <tr>\n",
              "      <th>3</th>\n",
              "      <td>2024-12-01 23:35:31</td>\n",
              "      <td>/api/search</td>\n",
              "      <td>user_12</td>\n",
              "      <td>96</td>\n",
              "      <td>200</td>\n",
              "    </tr>\n",
              "    <tr>\n",
              "      <th>4</th>\n",
              "      <td>2024-12-01 23:40:31</td>\n",
              "      <td>/api/search</td>\n",
              "      <td>user_15</td>\n",
              "      <td>98</td>\n",
              "      <td>200</td>\n",
              "    </tr>\n",
              "  </tbody>\n",
              "</table>\n",
              "</div>\n",
              "    <div class=\"colab-df-buttons\">\n",
              "\n",
              "  <div class=\"colab-df-container\">\n",
              "    <button class=\"colab-df-convert\" onclick=\"convertToInteractive('df-e5a077a2-b669-4415-aed7-5256214ae36b')\"\n",
              "            title=\"Convert this dataframe to an interactive table.\"\n",
              "            style=\"display:none;\">\n",
              "\n",
              "  <svg xmlns=\"http://www.w3.org/2000/svg\" height=\"24px\" viewBox=\"0 -960 960 960\">\n",
              "    <path d=\"M120-120v-720h720v720H120Zm60-500h600v-160H180v160Zm220 220h160v-160H400v160Zm0 220h160v-160H400v160ZM180-400h160v-160H180v160Zm440 0h160v-160H620v160ZM180-180h160v-160H180v160Zm440 0h160v-160H620v160Z\"/>\n",
              "  </svg>\n",
              "    </button>\n",
              "\n",
              "  <style>\n",
              "    .colab-df-container {\n",
              "      display:flex;\n",
              "      gap: 12px;\n",
              "    }\n",
              "\n",
              "    .colab-df-convert {\n",
              "      background-color: #E8F0FE;\n",
              "      border: none;\n",
              "      border-radius: 50%;\n",
              "      cursor: pointer;\n",
              "      display: none;\n",
              "      fill: #1967D2;\n",
              "      height: 32px;\n",
              "      padding: 0 0 0 0;\n",
              "      width: 32px;\n",
              "    }\n",
              "\n",
              "    .colab-df-convert:hover {\n",
              "      background-color: #E2EBFA;\n",
              "      box-shadow: 0px 1px 2px rgba(60, 64, 67, 0.3), 0px 1px 3px 1px rgba(60, 64, 67, 0.15);\n",
              "      fill: #174EA6;\n",
              "    }\n",
              "\n",
              "    .colab-df-buttons div {\n",
              "      margin-bottom: 4px;\n",
              "    }\n",
              "\n",
              "    [theme=dark] .colab-df-convert {\n",
              "      background-color: #3B4455;\n",
              "      fill: #D2E3FC;\n",
              "    }\n",
              "\n",
              "    [theme=dark] .colab-df-convert:hover {\n",
              "      background-color: #434B5C;\n",
              "      box-shadow: 0px 1px 3px 1px rgba(0, 0, 0, 0.15);\n",
              "      filter: drop-shadow(0px 1px 2px rgba(0, 0, 0, 0.3));\n",
              "      fill: #FFFFFF;\n",
              "    }\n",
              "  </style>\n",
              "\n",
              "    <script>\n",
              "      const buttonEl =\n",
              "        document.querySelector('#df-e5a077a2-b669-4415-aed7-5256214ae36b button.colab-df-convert');\n",
              "      buttonEl.style.display =\n",
              "        google.colab.kernel.accessAllowed ? 'block' : 'none';\n",
              "\n",
              "      async function convertToInteractive(key) {\n",
              "        const element = document.querySelector('#df-e5a077a2-b669-4415-aed7-5256214ae36b');\n",
              "        const dataTable =\n",
              "          await google.colab.kernel.invokeFunction('convertToInteractive',\n",
              "                                                    [key], {});\n",
              "        if (!dataTable) return;\n",
              "\n",
              "        const docLinkHtml = 'Like what you see? Visit the ' +\n",
              "          '<a target=\"_blank\" href=https://colab.research.google.com/notebooks/data_table.ipynb>data table notebook</a>'\n",
              "          + ' to learn more about interactive tables.';\n",
              "        element.innerHTML = '';\n",
              "        dataTable['output_type'] = 'display_data';\n",
              "        await google.colab.output.renderOutput(dataTable, element);\n",
              "        const docLink = document.createElement('div');\n",
              "        docLink.innerHTML = docLinkHtml;\n",
              "        element.appendChild(docLink);\n",
              "      }\n",
              "    </script>\n",
              "  </div>\n",
              "\n",
              "\n",
              "<div id=\"df-80d47d34-e405-49c2-8fbf-e6a3210819fd\">\n",
              "  <button class=\"colab-df-quickchart\" onclick=\"quickchart('df-80d47d34-e405-49c2-8fbf-e6a3210819fd')\"\n",
              "            title=\"Suggest charts\"\n",
              "            style=\"display:none;\">\n",
              "\n",
              "<svg xmlns=\"http://www.w3.org/2000/svg\" height=\"24px\"viewBox=\"0 0 24 24\"\n",
              "     width=\"24px\">\n",
              "    <g>\n",
              "        <path d=\"M19 3H5c-1.1 0-2 .9-2 2v14c0 1.1.9 2 2 2h14c1.1 0 2-.9 2-2V5c0-1.1-.9-2-2-2zM9 17H7v-7h2v7zm4 0h-2V7h2v10zm4 0h-2v-4h2v4z\"/>\n",
              "    </g>\n",
              "</svg>\n",
              "  </button>\n",
              "\n",
              "<style>\n",
              "  .colab-df-quickchart {\n",
              "      --bg-color: #E8F0FE;\n",
              "      --fill-color: #1967D2;\n",
              "      --hover-bg-color: #E2EBFA;\n",
              "      --hover-fill-color: #174EA6;\n",
              "      --disabled-fill-color: #AAA;\n",
              "      --disabled-bg-color: #DDD;\n",
              "  }\n",
              "\n",
              "  [theme=dark] .colab-df-quickchart {\n",
              "      --bg-color: #3B4455;\n",
              "      --fill-color: #D2E3FC;\n",
              "      --hover-bg-color: #434B5C;\n",
              "      --hover-fill-color: #FFFFFF;\n",
              "      --disabled-bg-color: #3B4455;\n",
              "      --disabled-fill-color: #666;\n",
              "  }\n",
              "\n",
              "  .colab-df-quickchart {\n",
              "    background-color: var(--bg-color);\n",
              "    border: none;\n",
              "    border-radius: 50%;\n",
              "    cursor: pointer;\n",
              "    display: none;\n",
              "    fill: var(--fill-color);\n",
              "    height: 32px;\n",
              "    padding: 0;\n",
              "    width: 32px;\n",
              "  }\n",
              "\n",
              "  .colab-df-quickchart:hover {\n",
              "    background-color: var(--hover-bg-color);\n",
              "    box-shadow: 0 1px 2px rgba(60, 64, 67, 0.3), 0 1px 3px 1px rgba(60, 64, 67, 0.15);\n",
              "    fill: var(--button-hover-fill-color);\n",
              "  }\n",
              "\n",
              "  .colab-df-quickchart-complete:disabled,\n",
              "  .colab-df-quickchart-complete:disabled:hover {\n",
              "    background-color: var(--disabled-bg-color);\n",
              "    fill: var(--disabled-fill-color);\n",
              "    box-shadow: none;\n",
              "  }\n",
              "\n",
              "  .colab-df-spinner {\n",
              "    border: 2px solid var(--fill-color);\n",
              "    border-color: transparent;\n",
              "    border-bottom-color: var(--fill-color);\n",
              "    animation:\n",
              "      spin 1s steps(1) infinite;\n",
              "  }\n",
              "\n",
              "  @keyframes spin {\n",
              "    0% {\n",
              "      border-color: transparent;\n",
              "      border-bottom-color: var(--fill-color);\n",
              "      border-left-color: var(--fill-color);\n",
              "    }\n",
              "    20% {\n",
              "      border-color: transparent;\n",
              "      border-left-color: var(--fill-color);\n",
              "      border-top-color: var(--fill-color);\n",
              "    }\n",
              "    30% {\n",
              "      border-color: transparent;\n",
              "      border-left-color: var(--fill-color);\n",
              "      border-top-color: var(--fill-color);\n",
              "      border-right-color: var(--fill-color);\n",
              "    }\n",
              "    40% {\n",
              "      border-color: transparent;\n",
              "      border-right-color: var(--fill-color);\n",
              "      border-top-color: var(--fill-color);\n",
              "    }\n",
              "    60% {\n",
              "      border-color: transparent;\n",
              "      border-right-color: var(--fill-color);\n",
              "    }\n",
              "    80% {\n",
              "      border-color: transparent;\n",
              "      border-right-color: var(--fill-color);\n",
              "      border-bottom-color: var(--fill-color);\n",
              "    }\n",
              "    90% {\n",
              "      border-color: transparent;\n",
              "      border-bottom-color: var(--fill-color);\n",
              "    }\n",
              "  }\n",
              "</style>\n",
              "\n",
              "  <script>\n",
              "    async function quickchart(key) {\n",
              "      const quickchartButtonEl =\n",
              "        document.querySelector('#' + key + ' button');\n",
              "      quickchartButtonEl.disabled = true;  // To prevent multiple clicks.\n",
              "      quickchartButtonEl.classList.add('colab-df-spinner');\n",
              "      try {\n",
              "        const charts = await google.colab.kernel.invokeFunction(\n",
              "            'suggestCharts', [key], {});\n",
              "      } catch (error) {\n",
              "        console.error('Error during call to suggestCharts:', error);\n",
              "      }\n",
              "      quickchartButtonEl.classList.remove('colab-df-spinner');\n",
              "      quickchartButtonEl.classList.add('colab-df-quickchart-complete');\n",
              "    }\n",
              "    (() => {\n",
              "      let quickchartButtonEl =\n",
              "        document.querySelector('#df-80d47d34-e405-49c2-8fbf-e6a3210819fd button');\n",
              "      quickchartButtonEl.style.display =\n",
              "        google.colab.kernel.accessAllowed ? 'block' : 'none';\n",
              "    })();\n",
              "  </script>\n",
              "</div>\n",
              "\n",
              "    </div>\n",
              "  </div>\n"
            ],
            "application/vnd.google.colaboratory.intrinsic+json": {
              "type": "dataframe",
              "variable_name": "app_logs_data",
              "summary": "{\n  \"name\": \"app_logs_data\",\n  \"rows\": 2016,\n  \"fields\": [\n    {\n      \"column\": \"timestamp\",\n      \"properties\": {\n        \"dtype\": \"object\",\n        \"num_unique_values\": 2016,\n        \"samples\": [\n          \"2024-12-06 3:10:31\",\n          \"2024-12-03 19:10:31\",\n          \"2024-12-03 8:05:31\"\n        ],\n        \"semantic_type\": \"\",\n        \"description\": \"\"\n      }\n    },\n    {\n      \"column\": \"endpoint\",\n      \"properties\": {\n        \"dtype\": \"category\",\n        \"num_unique_values\": 4,\n        \"samples\": [\n          \"/api/recommendations\",\n          \"/api/user/profile\",\n          \"/api/search\"\n        ],\n        \"semantic_type\": \"\",\n        \"description\": \"\"\n      }\n    },\n    {\n      \"column\": \"user_id\",\n      \"properties\": {\n        \"dtype\": \"category\",\n        \"num_unique_values\": 100,\n        \"samples\": [\n          \"user_19\",\n          \"user_84\",\n          \"user_41\"\n        ],\n        \"semantic_type\": \"\",\n        \"description\": \"\"\n      }\n    },\n    {\n      \"column\": \"response_time_ms\",\n      \"properties\": {\n        \"dtype\": \"number\",\n        \"std\": 2961,\n        \"min\": 70,\n        \"max\": 30000,\n        \"num_unique_values\": 170,\n        \"samples\": [\n          235,\n          70,\n          188\n        ],\n        \"semantic_type\": \"\",\n        \"description\": \"\"\n      }\n    },\n    {\n      \"column\": \"status_code\",\n      \"properties\": {\n        \"dtype\": \"number\",\n        \"std\": 63,\n        \"min\": 200,\n        \"max\": 504,\n        \"num_unique_values\": 4,\n        \"samples\": [\n          500,\n          400,\n          200\n        ],\n        \"semantic_type\": \"\",\n        \"description\": \"\"\n      }\n    }\n  ]\n}"
            }
          },
          "metadata": {},
          "execution_count": 4
        }
      ]
    },
    {
      "cell_type": "code",
      "source": [
        "#Here timestamp not in the form of datetime object, we have to covert this firstly\n",
        "\n",
        "app_logs_data['timestamp'] = pd.to_datetime(app_logs_data['timestamp'])"
      ],
      "metadata": {
        "id": "OrUnptXNOzvt"
      },
      "execution_count": 8,
      "outputs": []
    },
    {
      "cell_type": "markdown",
      "source": [
        "#1. Performance Analysis\n",
        "#**Create functions to calculate key metrics:**\n",
        "\n",
        "*   Average and p95 response times per endpoint\n",
        "*   Error rates and types of errors\n",
        "*   Peak usage periods\n",
        "*   User experience metrics (e.g., % of requests > 1s)\n",
        "*   Any additional metrics you think would be valuable\n",
        "\n",
        "\n",
        "\n",
        "\n",
        "\n",
        "\n",
        "\n",
        "\n",
        "\n",
        "\n"
      ],
      "metadata": {
        "id": "4H_D2qa8NLU3"
      }
    },
    {
      "cell_type": "markdown",
      "source": [
        "# **Average and p95 response times per endpoint**"
      ],
      "metadata": {
        "id": "bvMugOpYS68u"
      }
    },
    {
      "cell_type": "code",
      "execution_count": 30,
      "metadata": {
        "colab": {
          "base_uri": "https://localhost:8080/"
        },
        "id": "zBp6ucVVMsD-",
        "outputId": "7d9b505c-f6f4-4a61-ceda-163cdbc484d9"
      },
      "outputs": [
        {
          "output_type": "stream",
          "name": "stdout",
          "text": [
            "                      Average_Response_time  P95_Response_time\n",
            "endpoint                                                      \n",
            "/api/chat                        445.026515             235.65\n",
            "/api/recommendations             348.311871             155.20\n",
            "/api/search                      471.608081             157.90\n",
            "/api/user/profile                410.600806             160.00\n"
          ]
        }
      ],
      "source": [
        "def calculate_response_metrics(df):\n",
        "\n",
        "    grouped_data = df.groupby('endpoint')['response_time_ms']\n",
        "    Average_Response_time = grouped_data.mean()\n",
        "    p95_Response_time = grouped_data.quantile(0.95)\n",
        "    metrics = pd.DataFrame({\n",
        "        'Average_Response_time': Average_Response_time,\n",
        "        'P95_Response_time': p95_Response_time\n",
        "    })\n",
        "    return metrics\n",
        "\n",
        "response_metrics_value = calculate_response_metrics(app_logs_data)\n",
        "print(response_metrics_value)"
      ]
    },
    {
      "cell_type": "markdown",
      "source": [
        "#**Error rates and types of errors**"
      ],
      "metadata": {
        "id": "8LOrcFn0W4ux"
      }
    },
    {
      "cell_type": "markdown",
      "source": [],
      "metadata": {
        "id": "lwJ2Ih6PcS4m"
      }
    },
    {
      "cell_type": "code",
      "source": [
        "def calculate_Error_Rates(df):\n",
        "    Total_Request = len(df)\n",
        "    Error_Request = df[df['status_code'] >= 400]\n",
        "    Error_Count = Error_Request.groupby('status_code').size()\n",
        "    Error_Rate = (Error_Count / Total_Request) * 100\n",
        "    return Error_Rate.sort_index(), Total_Request\n",
        "\n",
        "Error_rate, Total_Request = calculate_Error_Rates(app_logs_data)\n",
        "print(f\"Total Requests: {Total_Request}\")\n",
        "print(Error_rate)"
      ],
      "metadata": {
        "colab": {
          "base_uri": "https://localhost:8080/"
        },
        "id": "9eQbdhCdWBUu",
        "outputId": "3e76be7c-8d53-4de8-ca2b-692c3490a662"
      },
      "execution_count": 29,
      "outputs": [
        {
          "output_type": "stream",
          "name": "stdout",
          "text": [
            "Total Requests: 2016\n",
            "status_code\n",
            "400    2.480159\n",
            "500    2.579365\n",
            "504    0.992063\n",
            "dtype: float64\n"
          ]
        }
      ]
    },
    {
      "cell_type": "markdown",
      "source": [
        "# **Peak usage periods**"
      ],
      "metadata": {
        "id": "5B-yGbp1cBC9"
      }
    },
    {
      "cell_type": "code",
      "source": [
        "def peak_usage(df):\n",
        "\n",
        "    df['hour'] = df['timestamp'].dt.hour\n",
        "    Hourly_Request_Count = df['hour'].value_counts()\n",
        "    peak_usage = Hourly_Request_Count.sort_values(ascending=False)\n",
        "    return peak_usage\n",
        "\n",
        "Peak_Usage_value = peak_usage(app_logs_data)\n",
        "print(Peak_Usage_value)\n"
      ],
      "metadata": {
        "colab": {
          "base_uri": "https://localhost:8080/"
        },
        "id": "M83dgm6-YOB0",
        "outputId": "b055249b-1cf9-4d7a-d3c6-78b6b9a7ef50"
      },
      "execution_count": 28,
      "outputs": [
        {
          "output_type": "stream",
          "name": "stdout",
          "text": [
            "hour\n",
            "23    84\n",
            "0     84\n",
            "1     84\n",
            "2     84\n",
            "3     84\n",
            "4     84\n",
            "5     84\n",
            "6     84\n",
            "7     84\n",
            "8     84\n",
            "9     84\n",
            "10    84\n",
            "11    84\n",
            "12    84\n",
            "13    84\n",
            "14    84\n",
            "15    84\n",
            "16    84\n",
            "17    84\n",
            "18    84\n",
            "19    84\n",
            "20    84\n",
            "21    84\n",
            "22    84\n",
            "Name: count, dtype: int64\n"
          ]
        }
      ]
    },
    {
      "cell_type": "markdown",
      "source": [],
      "metadata": {
        "id": "7RbyIGOPcDMp"
      }
    },
    {
      "cell_type": "markdown",
      "source": [
        "#**User experience metrics (e.g., % of requests > 1s)**"
      ],
      "metadata": {
        "id": "bdADkzBmcIAG"
      }
    },
    {
      "cell_type": "code",
      "source": [
        "def User_experience_metrics(df):\n",
        "    #high_response_count = len(df[df['response_time_ms'] > 750])\n",
        "    #high_response_count = len(df[df['response_time_ms'] > 950])\n",
        "    high_response_count = len(df[df['response_time_ms'] > 1000\n",
        "                                 ])\n",
        "    percentage = (high_response_count / len(df)) * 100\n",
        "    return percentage\n",
        "\n",
        "User_experience_metrics_value = User_experience_metrics(app_logs_data)\n",
        "print(User_experience_metrics_value)"
      ],
      "metadata": {
        "colab": {
          "base_uri": "https://localhost:8080/"
        },
        "id": "_gSqbC6xb-Cu",
        "outputId": "030574c4-8660-4b69-92a7-35bd760c8ead"
      },
      "execution_count": 34,
      "outputs": [
        {
          "output_type": "stream",
          "name": "stdout",
          "text": [
            "0.992063492063492\n"
          ]
        }
      ]
    },
    {
      "cell_type": "markdown",
      "source": [
        "# **Any additional metrics you think would be valuable**\n",
        "\n",
        "\n",
        "\n",
        "*   Request per Seconds\n",
        "\n"
      ],
      "metadata": {
        "id": "wnqHkRY-dfew"
      }
    },
    {
      "cell_type": "code",
      "source": [
        "def calculate_RPS(df):\n",
        "    start_time = df['timestamp'].min()\n",
        "    end_time = df['timestamp'].max()\n",
        "    total_time_seconds = (end_time - start_time).total_seconds()\n",
        "    RPS = len(df) / total_time_seconds\n",
        "    return RPS\n",
        "\n",
        "RPS_value = calculate_RPS(app_logs_data)\n",
        "print(RPS_value)\n"
      ],
      "metadata": {
        "colab": {
          "base_uri": "https://localhost:8080/"
        },
        "id": "CE_euwe0daIB",
        "outputId": "40842dd9-c8b1-4a57-bb91-f8d95f8cd2f6"
      },
      "execution_count": 35,
      "outputs": [
        {
          "output_type": "stream",
          "name": "stdout",
          "text": [
            "0.0033349875930521094\n"
          ]
        }
      ]
    },
    {
      "cell_type": "markdown",
      "source": [
        "#**2. Visualization Dashboard**\n",
        "\n",
        "Create clear visualizations showing:\n",
        "\n",
        "● Response time trends over time\n",
        "\n",
        "● Error rate patterns\n",
        "\n",
        "● Endpoint performance comparison\n",
        "\n",
        "● Peak usage analysis\n",
        "\n"
      ],
      "metadata": {
        "id": "FayAd9SVjQ_j"
      }
    },
    {
      "cell_type": "markdown",
      "source": [
        "# **VISUALIZATION**"
      ],
      "metadata": {
        "id": "5ePcLSSshPf0"
      }
    },
    {
      "cell_type": "markdown",
      "source": [
        "Visualization 1: **Response time trends over time**"
      ],
      "metadata": {
        "id": "jRYkL11DhKmO"
      }
    },
    {
      "cell_type": "code",
      "source": [
        "\n",
        "fig, ax = plt.subplots(1, 2, figsize=(14, 6))\n",
        "response_metrics_value['Average_Response_time'].plot(kind='bar', ax=ax[0], color='skyblue', alpha=0.7)\n",
        "ax[0].set_title('Average Response Time per Endpoint')\n",
        "ax[0].set_ylabel('Response Time (ms)')\n",
        "ax[0].set_xlabel('Endpoint')\n",
        "\n",
        "response_metrics_value['P95_Response_time'].plot(kind='bar', ax=ax[1], color='orange', alpha=0.7)\n",
        "ax[1].set_title('P95 Response Time per Endpoint')\n",
        "ax[1].set_ylabel('Response Time (ms)')\n",
        "ax[1].set_xlabel('Endpoint')\n",
        "\n",
        "plt.tight_layout()\n",
        "plt.show()"
      ],
      "metadata": {
        "colab": {
          "base_uri": "https://localhost:8080/",
          "height": 347
        },
        "id": "pYspqV_bfAZt",
        "outputId": "23806fb8-c251-4b0e-90c5-6f4af0ff0991"
      },
      "execution_count": 36,
      "outputs": [
        {
          "output_type": "display_data",
          "data": {
            "text/plain": [
              "<Figure size 1400x600 with 2 Axes>"
            ],
            "image/png": "[encoded data removed]"
          },
          "metadata": {}
        }
      ]
    },
    {
      "cell_type": "markdown",
      "source": [
        "V2 : **Error rate patterns**"
      ],
      "metadata": {
        "id": "TeEVS2-ShaWi"
      }
    },
    {
      "cell_type": "code",
      "source": [
        "\n",
        "plt.figure(figsize=(8, 5))\n",
        "Error_rate.plot(kind='bar', color='red', alpha=0.7)\n",
        "plt.title('Error Rate per Status Code')\n",
        "plt.xlabel('Status Code')\n",
        "plt.ylabel('Error Rate (%)')\n",
        "plt.tight_layout()\n",
        "plt.show()\n"
      ],
      "metadata": {
        "colab": {
          "base_uri": "https://localhost:8080/",
          "height": 499
        },
        "id": "4rLHIrQZgkTd",
        "outputId": "8ea77856-bc31-429d-d9cc-90d5b161cdd9"
      },
      "execution_count": 37,
      "outputs": [
        {
          "output_type": "display_data",
          "data": {
            "text/plain": [
              "<Figure size 800x500 with 1 Axes>"
            ],
            "image/png": "[encoded data removed]"
          },
          "metadata": {}
        }
      ]
    },
    {
      "cell_type": "markdown",
      "source": [
        "V 3: **User Experience Metrics**"
      ],
      "metadata": {
        "id": "jD4kS3DNhpWB"
      }
    },
    {
      "cell_type": "code",
      "source": [
        "\n",
        "plt.figure(figsize=(3, 2))\n",
        "plt.bar(['Requests > 1 Second'], [User_experience_metrics_value], color='green')\n",
        "plt.title(f'Percentage of Requests > 1 Second: {User_experience_metrics_value:.2f}%')\n",
        "plt.ylabel('Percentage (%)')\n",
        "plt.tight_layout()\n",
        "plt.show()"
      ],
      "metadata": {
        "colab": {
          "base_uri": "https://localhost:8080/",
          "height": 207
        },
        "id": "iI0gGBvigpTq",
        "outputId": "8209b167-ffc0-4c38-fa58-e08ac7b2b939"
      },
      "execution_count": 39,
      "outputs": [
        {
          "output_type": "display_data",
          "data": {
            "text/plain": [
              "<Figure size 300x200 with 1 Axes>"
            ],
            "image/png": "[encoded data removed]"
          },
          "metadata": {}
        }
      ]
    },
    {
      "cell_type": "markdown",
      "source": [
        "V4: **Peak Usage Analysis**"
      ],
      "metadata": {
        "id": "FRirun4Rhyjb"
      }
    },
    {
      "cell_type": "code",
      "source": [
        "\n",
        "plt.figure(figsize=(10, 6))\n",
        "Peak_Usage_value.plot(kind='bar', color='purple', alpha=0.7)\n",
        "plt.title('Peak Usage per Hour')\n",
        "plt.xlabel('Hour of Day')\n",
        "plt.ylabel('Number of Requests')\n",
        "plt.tight_layout()\n",
        "plt.show()"
      ],
      "metadata": {
        "colab": {
          "base_uri": "https://localhost:8080/",
          "height": 480
        },
        "id": "1UL0E0Fgg6JC",
        "outputId": "7197a826-60d8-4b81-af21-4adcae3ff027"
      },
      "execution_count": 40,
      "outputs": [
        {
          "output_type": "display_data",
          "data": {
            "text/plain": [
              "<Figure size 1000x600 with 1 Axes>"
            ],
            "image/png": "[encoded data removed]"
          },
          "metadata": {}
        }
      ]
    },
    {
      "cell_type": "markdown",
      "source": [
        "#**3. Anomaly Detection**\n",
        "\n",
        "Implement basic anomaly detection to identify:\n",
        "\n",
        "● Unusual spikes in response time\n",
        "\n",
        "● Error rate anomalies\n",
        "\n",
        "● Endpoint availability issues\n"
      ],
      "metadata": {
        "id": "C7Lsifr8jqJR"
      }
    },
    {
      "cell_type": "markdown",
      "source": [
        "#**Unusual spikes in response time**\n",
        "\n",
        "We Compare the response time to the mean and standard deviation - the Z-score. Where any response time above the threshold, mean + n * standard deviation is an anomaly.\n"
      ],
      "metadata": {
        "id": "e75lUoe7j-mC"
      }
    },
    {
      "cell_type": "code",
      "source": [
        "\n",
        "\n",
        "def detect_response_time_spikes(df, threshold=3):\n",
        "# Z-score > 3: The data point is more than 3 standard deviations away from the mean,\n",
        "#which is often considered an outlier or an anomaly.\n",
        "    # Calculate mean and standard deviation of response times\n",
        "    mean_response_time = df['response_time_ms'].mean()\n",
        "    std_response_time = df['response_time_ms'].std()\n",
        "\n",
        "    # Z-score calculation: (value - mean) / std\n",
        "    df['response_time_zscore'] = (df['response_time_ms'] - mean_response_time) / std_response_time\n",
        "\n",
        "    # Detect spikes: where Z-score is above a certain threshold\n",
        "    response_time_spikes = df[df['response_time_zscore'] > threshold]\n",
        "\n",
        "    return response_time_spikes\n",
        "\n",
        "# Detect spikes in response time\n",
        "response_time_spikes = detect_response_time_spikes(app_logs_data)\n",
        "print(\"Response Time Spikes:\")\n",
        "print(response_time_spikes)"
      ],
      "metadata": {
        "colab": {
          "base_uri": "https://localhost:8080/"
        },
        "id": "xiHr8RADjgOX",
        "outputId": "9cdb113f-2ff9-4cf6-baa5-5eb1b41e563f"
      },
      "execution_count": 44,
      "outputs": [
        {
          "output_type": "stream",
          "name": "stdout",
          "text": [
            "Response Time Spikes:\n",
            "               timestamp              endpoint  user_id  response_time_ms  \\\n",
            "33   2024-12-02 02:05:31     /api/user/profile  user_18             30000   \n",
            "139  2024-12-02 10:55:31             /api/chat   user_6             30000   \n",
            "142  2024-12-02 11:10:31  /api/recommendations  user_54             30000   \n",
            "184  2024-12-02 14:40:31             /api/chat  user_88             30000   \n",
            "219  2024-12-02 17:35:31           /api/search  user_40             30000   \n",
            "360  2024-12-03 05:20:31  /api/recommendations  user_38             30000   \n",
            "514  2024-12-03 18:10:31     /api/user/profile  user_53             30000   \n",
            "744  2024-12-04 13:20:31           /api/search  user_82             30000   \n",
            "863  2024-12-04 23:15:31     /api/user/profile  user_13             30000   \n",
            "925  2024-12-05 04:25:31           /api/search  user_18             30000   \n",
            "926  2024-12-05 04:30:31             /api/chat  user_67             30000   \n",
            "1022 2024-12-05 12:30:31     /api/user/profile  user_36             30000   \n",
            "1280 2024-12-06 10:00:31     /api/user/profile  user_64             30000   \n",
            "1317 2024-12-06 13:05:31  /api/recommendations  user_15             30000   \n",
            "1429 2024-12-06 22:25:31           /api/search   user_4             30000   \n",
            "1576 2024-12-07 10:40:31           /api/search  user_73             30000   \n",
            "1671 2024-12-07 18:35:31             /api/chat   user_7             30000   \n",
            "1674 2024-12-07 18:50:31             /api/chat  user_26             30000   \n",
            "1763 2024-12-08 02:15:31           /api/search  user_25             30000   \n",
            "1785 2024-12-08 04:05:31  /api/recommendations  user_73             30000   \n",
            "\n",
            "      status_code  hour  response_time_zscore  \n",
            "33            504     2              9.986797  \n",
            "139           504    10              9.986797  \n",
            "142           504    11              9.986797  \n",
            "184           504    14              9.986797  \n",
            "219           504    17              9.986797  \n",
            "360           504     5              9.986797  \n",
            "514           504    18              9.986797  \n",
            "744           504    13              9.986797  \n",
            "863           504    23              9.986797  \n",
            "925           504     4              9.986797  \n",
            "926           504     4              9.986797  \n",
            "1022          504    12              9.986797  \n",
            "1280          504    10              9.986797  \n",
            "1317          504    13              9.986797  \n",
            "1429          504    22              9.986797  \n",
            "1576          504    10              9.986797  \n",
            "1671          504    18              9.986797  \n",
            "1674          504    18              9.986797  \n",
            "1763          504     2              9.986797  \n",
            "1785          504     4              9.986797  \n"
          ]
        }
      ]
    },
    {
      "cell_type": "markdown",
      "source": [
        "#**Error rate anomalies**\n",
        "\n",
        "For each hour, we calculate the error rate as the percentage of requests that resulted in errors (status code 4xx or 5xx).\n",
        "\n",
        "We then compute a moving average of the error rates and their standard deviation.\n",
        "\n",
        "If the error rate exceeds the moving average + n times the standard deviation, we classify it as an anomaly."
      ],
      "metadata": {
        "id": "HHVRNMUymIJk"
      }
    },
    {
      "cell_type": "code",
      "source": [
        "def detect_error_rate_anomalies(df, window_size=5\n",
        "                                , threshold_factor=1):\n",
        "    # moving average of the error rate\n",
        "    df['hour'] = df['timestamp'].dt.hour\n",
        "    total_requests_per_hour = df.groupby('hour').size()\n",
        "    error_requests_per_hour = df[df['status_code'] >= 400].groupby('hour').size()\n",
        "\n",
        "    error_requests_per_hour = error_requests_per_hour.reindex(total_requests_per_hour.index, fill_value=0)\n",
        "\n",
        "    # error rate as a percentage\n",
        "    error_rate_per_hour = (error_requests_per_hour / total_requests_per_hour) * 100\n",
        "\n",
        "    print(\"Error rate per hour:\\n\", error_rate_per_hour)\n",
        "\n",
        "    # Moving average\n",
        "    error_rate_ma = error_rate_per_hour.rolling(window=window_size).mean()\n",
        "    error_rate_std = error_rate_per_hour.rolling(window=window_size).std()\n",
        "\n",
        "    # Debug: Check moving average and standard deviation\n",
        "    print(\"Moving Average of Error Rate:\\n\", error_rate_ma)\n",
        "    print(\"Standard Deviation of Error Rate:\\n\", error_rate_std)\n",
        "\n",
        "    # Detect anomalies\n",
        "    error_rate_anomalies = error_rate_per_hour[error_rate_per_hour > error_rate_ma + threshold_factor * error_rate_std]\n",
        "\n",
        "    return error_rate_anomalies\n",
        "\n",
        "\n",
        "error_rate_anomalies = detect_error_rate_anomalies(app_logs_data)\n",
        "print(\"\\nError Rate Anomalies:\")\n",
        "print(error_rate_anomalies)\n"
      ],
      "metadata": {
        "colab": {
          "base_uri": "https://localhost:8080/"
        },
        "id": "IOKlLnU-nMcA",
        "outputId": "2e733828-2cd7-491f-c2a2-57064b56f307"
      },
      "execution_count": 56,
      "outputs": [
        {
          "output_type": "stream",
          "name": "stdout",
          "text": [
            "Error rate per hour:\n",
            " hour\n",
            "0      5.952381\n",
            "1      3.571429\n",
            "2      5.952381\n",
            "3      3.571429\n",
            "4      8.333333\n",
            "5      3.571429\n",
            "6      3.571429\n",
            "7      5.952381\n",
            "8      5.952381\n",
            "9      8.333333\n",
            "10     8.333333\n",
            "11     2.380952\n",
            "12     8.333333\n",
            "13     3.571429\n",
            "14    13.095238\n",
            "15     5.952381\n",
            "16     5.952381\n",
            "17     4.761905\n",
            "18    11.904762\n",
            "19     7.142857\n",
            "20     3.571429\n",
            "21     3.571429\n",
            "22     5.952381\n",
            "23     5.952381\n",
            "dtype: float64\n",
            "Moving Average of Error Rate:\n",
            " hour\n",
            "0          NaN\n",
            "1          NaN\n",
            "2          NaN\n",
            "3          NaN\n",
            "4     5.476190\n",
            "5     5.000000\n",
            "6     5.000000\n",
            "7     5.000000\n",
            "8     5.476190\n",
            "9     5.476190\n",
            "10    6.428571\n",
            "11    6.190476\n",
            "12    6.666667\n",
            "13    6.190476\n",
            "14    7.142857\n",
            "15    6.666667\n",
            "16    7.380952\n",
            "17    6.666667\n",
            "18    8.333333\n",
            "19    7.142857\n",
            "20    6.666667\n",
            "21    6.190476\n",
            "22    6.428571\n",
            "23    5.238095\n",
            "dtype: float64\n",
            "Standard Deviation of Error Rate:\n",
            " hour\n",
            "0          NaN\n",
            "1          NaN\n",
            "2          NaN\n",
            "3          NaN\n",
            "4     1.992048\n",
            "5     2.129589\n",
            "6     2.129589\n",
            "7     2.129589\n",
            "8     1.992048\n",
            "9     1.992048\n",
            "10    1.992048\n",
            "11    2.439750\n",
            "12    2.608203\n",
            "13    2.964262\n",
            "14    4.292323\n",
            "15    4.259177\n",
            "16    3.610893\n",
            "17    3.726780\n",
            "18    3.857584\n",
            "19    2.791914\n",
            "20    3.216490\n",
            "21    3.511400\n",
            "22    3.429729\n",
            "23    1.597191\n",
            "dtype: float64\n",
            "\n",
            "Error Rate Anomalies:\n",
            "hour\n",
            "4      8.333333\n",
            "9      8.333333\n",
            "14    13.095238\n",
            "dtype: float64\n"
          ]
        }
      ]
    },
    {
      "cell_type": "markdown",
      "source": [
        "Error Rate Anomalies:\n",
        "\n",
        "hour\n",
        "\n",
        "4        8.333333\n",
        "\n",
        "9        8.333333\n",
        "\n",
        "14      13.095238\n"
      ],
      "metadata": {
        "id": "fAA5DeimoUaT"
      }
    },
    {
      "cell_type": "markdown",
      "source": [
        " # **Endpoint availability issues**\n",
        "\n",
        " We count the number of requests per endpoint per hour.\n",
        "\n",
        "If an endpoint's request count for a given hour is less than a **specified threshold** , it is considered an availability issue."
      ],
      "metadata": {
        "id": "VMGhNdiVot1d"
      }
    },
    {
      "cell_type": "code",
      "source": [
        "def detect_endpoint_availability_issues(df, threshold=0.8):\n",
        "    df['hour'] = df['timestamp'].dt.hour\n",
        "    request_count_per_hour = df.groupby(['hour', 'endpoint']).size().unstack(fill_value=0)\n",
        "    # average requests per endpoint\n",
        "    avg_requests_per_endpoint = request_count_per_hour.mean()\n",
        "\n",
        "    # Detect availability issues\n",
        "    issues = request_count_per_hour < (avg_requests_per_endpoint * threshold)\n",
        "\n",
        "    return issues\n",
        "\n",
        "\n",
        "endpoint_availability_issues = detect_endpoint_availability_issues(app_logs_data)\n",
        "\n",
        "# Print availability issues\n",
        "print(\"\\nEndpoint Availability Issues:\")\n",
        "print(endpoint_availability_issues)"
      ],
      "metadata": {
        "colab": {
          "base_uri": "https://localhost:8080/"
        },
        "id": "g8agziLfnwO2",
        "outputId": "f4512c85-30c4-42f6-d3a6-4949fc9169a9"
      },
      "execution_count": 61,
      "outputs": [
        {
          "output_type": "stream",
          "name": "stdout",
          "text": [
            "\n",
            "Endpoint Availability Issues:\n",
            "endpoint  /api/chat  /api/recommendations  /api/search  /api/user/profile\n",
            "hour                                                                     \n",
            "0             False                 False        False              False\n",
            "1             False                 False        False               True\n",
            "2             False                 False        False              False\n",
            "3              True                 False        False              False\n",
            "4             False                 False        False              False\n",
            "5             False                 False        False              False\n",
            "6             False                 False        False              False\n",
            "7             False                  True         True              False\n",
            "8              True                 False        False              False\n",
            "9              True                 False        False              False\n",
            "10            False                 False         True              False\n",
            "11            False                 False        False               True\n",
            "12            False                 False         True              False\n",
            "13            False                  True        False              False\n",
            "14            False                  True        False              False\n",
            "15            False                 False        False               True\n",
            "16            False                 False        False               True\n",
            "17            False                 False        False              False\n",
            "18            False                 False         True              False\n",
            "19            False                  True        False              False\n",
            "20            False                 False        False              False\n",
            "21            False                 False        False              False\n",
            "22             True                 False        False              False\n",
            "23            False                 False         True              False\n"
          ]
        }
      ]
    },
    {
      "cell_type": "markdown",
      "source": [
        "**As we increased the threshold then chances of availabilty issues**"
      ],
      "metadata": {
        "id": "jTvYTfgJqSoG"
      }
    }
  ]
}